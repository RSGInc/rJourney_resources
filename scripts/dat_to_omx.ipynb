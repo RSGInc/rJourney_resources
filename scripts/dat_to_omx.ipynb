{
 "cells": [
  {
   "cell_type": "code",
   "execution_count": null,
   "metadata": {},
   "outputs": [],
   "source": [
    "import openmatrix as omx\n",
    "import numpy as np\n",
    "import pandas as pd"
   ]
  },
  {
   "cell_type": "code",
   "execution_count": null,
   "metadata": {},
   "outputs": [],
   "source": [
    "road_matrices = pd.read_csv(\"roadLOS_rt.dat\",\n",
    "                            names=['orig', 'dest', 'carTime', 'carDist', 'carToll', 'busTime', 'busFare'],\n",
    "                            sep='\\s+',\n",
    "                            dtype=np.float)\n",
    "rail_matrices = pd.read_csv(\"railLOS_rt.dat\",\n",
    "                            names=['orig', 'dest', 'railTime', 'railXfer', 'railFreq', 'railEconFare', 'railBusiFare', 'railAcEgDist', 'railOrigStation', 'railDestStation'],\n",
    "                            sep='\\s+',\n",
    "                            dtype=np.float)\n",
    "air_matrices = pd.read_csv(\"airLOS_rt.dat\",\n",
    "                           names=['orig', 'dest', 'airTime', 'airXfer', 'airFreqDirect', 'airFreq1Stop', 'airFreq2Stop', 'airReli30', 'airEconFare', 'airBusiFare', 'airAcEgDist', 'airOrigAirport', 'airDestAirport'],\n",
    "                           sep='\\s+',\n",
    "                           dtype=np.float)"
   ]
  },
  {
   "cell_type": "code",
   "execution_count": null,
   "metadata": {},
   "outputs": [],
   "source": [
    "for df in [road_matrices, rail_matrices, air_matrices]:\n",
    "    df.set_index(['orig', 'dest'], drop=True, inplace=True)"
   ]
  },
  {
   "cell_type": "code",
   "execution_count": null,
   "metadata": {},
   "outputs": [],
   "source": [
    "road_omx_file = omx.open_file('roadLOS.omx', 'w')\n",
    "rail_omx_file = omx.open_file('railLOS.omx', 'w')\n",
    "air_omx_file = omx.open_file('airLOS.omx', 'w')"
   ]
  },
  {
   "cell_type": "code",
   "execution_count": null,
   "metadata": {},
   "outputs": [],
   "source": [
    "for column in air_matrices:\n",
    "    air_omx_file[column] = air_matrices[column].unstack().to_numpy()\n",
    "    air_omx_file[column].attrs.mode = 'air'\n",
    "for column in road_matrices:\n",
    "    road_omx_file[column] = road_matrices[column].unstack().to_numpy()\n",
    "    road_omx_file[column].attrs.mode = 'road'\n",
    "for column in rail_matrices:\n",
    "    rail_omx_file[column] = rail_matrices[column].unstack().to_numpy()\n",
    "    rail_omx_file[column].attrs.mode = 'rail'"
   ]
  },
  {
   "cell_type": "code",
   "execution_count": null,
   "metadata": {},
   "outputs": [],
   "source": [
    "print(road_omx_file.list_matrices())\n",
    "print(rail_omx_file.list_matrices())\n",
    "print(air_omx_file.list_matrices())"
   ]
  },
  {
   "cell_type": "code",
   "execution_count": null,
   "metadata": {},
   "outputs": [],
   "source": [
    "mapping = np.arange(1,4487)\n",
    "\n",
    "road_omx_file.create_mapping('zone', mapping)\n",
    "rail_omx_file.create_mapping('zone', mapping)\n",
    "air_omx_file.create_mapping('zone', mapping)"
   ]
  },
  {
   "cell_type": "code",
   "execution_count": null,
   "metadata": {},
   "outputs": [],
   "source": [
    "road_omx_file.close()\n",
    "rail_omx_file.close()\n",
    "air_omx_file.close()"
   ]
  }
 ],
 "metadata": {
  "jupytext": {
   "formats": "ipynb,py:percent"
  },
  "kernelspec": {
   "display_name": "Python 3",
   "language": "python",
   "name": "python3"
  },
  "language_info": {
   "codemirror_mode": {
    "name": "ipython",
    "version": 3
   },
   "file_extension": ".py",
   "mimetype": "text/x-python",
   "name": "python",
   "nbconvert_exporter": "python",
   "pygments_lexer": "ipython3",
   "version": "3.7.3"
  }
 },
 "nbformat": 4,
 "nbformat_minor": 2
}
