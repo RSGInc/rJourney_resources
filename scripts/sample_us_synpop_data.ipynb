{
 "cells": [
  {
   "cell_type": "code",
   "execution_count": 1,
   "metadata": {},
   "outputs": [],
   "source": [
    "# iPython script for selecting a subsample of zones from the rJourney\n",
    "# households file. The complete file contains almost 5,000 zones, and\n",
    "# inter-zone calculations are expensive. Reducing zone count drastically\n",
    "# speeds up the program.\n",
    "\n",
    "import pandas as pd\n",
    "import numpy as np # required for np.random.choice"
   ]
  },
  {
   "cell_type": "code",
   "execution_count": 2,
   "metadata": {},
   "outputs": [],
   "source": [
    "# This is the big 114M households file. Put it in the same folder as this script.\n",
    "# NOTE: this is a 5GB file and requires at least twice as much available RAM on the\n",
    "# host machine in order to process properly.\n",
    "us_synpop_sorted = pd.read_csv('us_synpop_hh3_sorted.dat', sep=\"\\t\")"
   ]
  },
  {
   "cell_type": "code",
   "execution_count": 3,
   "metadata": {},
   "outputs": [
    {
     "data": {
      "text/plain": [
       "114736858"
      ]
     },
     "execution_count": 3,
     "metadata": {},
     "output_type": "execute_result"
    }
   ],
   "source": [
    "len(us_synpop_sorted)"
   ]
  },
  {
   "cell_type": "code",
   "execution_count": 4,
   "metadata": {},
   "outputs": [
    {
     "data": {
      "text/html": [
       "<div>\n",
       "<style scoped>\n",
       "    .dataframe tbody tr th:only-of-type {\n",
       "        vertical-align: middle;\n",
       "    }\n",
       "\n",
       "    .dataframe tbody tr th {\n",
       "        vertical-align: top;\n",
       "    }\n",
       "\n",
       "    .dataframe thead th {\n",
       "        text-align: right;\n",
       "    }\n",
       "</style>\n",
       "<table border=\"1\" class=\"dataframe\">\n",
       "  <thead>\n",
       "    <tr style=\"text-align: right;\">\n",
       "      <th></th>\n",
       "      <th>hhid</th>\n",
       "      <th>hhtract</th>\n",
       "      <th>hhnuma</th>\n",
       "      <th>hhsize</th>\n",
       "      <th>hhworkers</th>\n",
       "      <th>hhnwkers</th>\n",
       "      <th>hhhaskids</th>\n",
       "      <th>hhderage</th>\n",
       "      <th>hhincome</th>\n",
       "      <th>hhexpfac</th>\n",
       "    </tr>\n",
       "  </thead>\n",
       "  <tbody>\n",
       "    <tr>\n",
       "      <th>0</th>\n",
       "      <td>1125131</td>\n",
       "      <td>1073010500</td>\n",
       "      <td>0</td>\n",
       "      <td>2</td>\n",
       "      <td>0</td>\n",
       "      <td>1</td>\n",
       "      <td>1</td>\n",
       "      <td>46</td>\n",
       "      <td>7600</td>\n",
       "      <td>1</td>\n",
       "    </tr>\n",
       "    <tr>\n",
       "      <th>1</th>\n",
       "      <td>1125132</td>\n",
       "      <td>1073010500</td>\n",
       "      <td>0</td>\n",
       "      <td>2</td>\n",
       "      <td>0</td>\n",
       "      <td>1</td>\n",
       "      <td>1</td>\n",
       "      <td>35</td>\n",
       "      <td>14000</td>\n",
       "      <td>1</td>\n",
       "    </tr>\n",
       "    <tr>\n",
       "      <th>2</th>\n",
       "      <td>1125133</td>\n",
       "      <td>1073010500</td>\n",
       "      <td>0</td>\n",
       "      <td>2</td>\n",
       "      <td>1</td>\n",
       "      <td>0</td>\n",
       "      <td>1</td>\n",
       "      <td>35</td>\n",
       "      <td>2030</td>\n",
       "      <td>1</td>\n",
       "    </tr>\n",
       "    <tr>\n",
       "      <th>3</th>\n",
       "      <td>1125134</td>\n",
       "      <td>1073010500</td>\n",
       "      <td>0</td>\n",
       "      <td>2</td>\n",
       "      <td>1</td>\n",
       "      <td>0</td>\n",
       "      <td>1</td>\n",
       "      <td>27</td>\n",
       "      <td>11000</td>\n",
       "      <td>1</td>\n",
       "    </tr>\n",
       "    <tr>\n",
       "      <th>4</th>\n",
       "      <td>1125135</td>\n",
       "      <td>1073010500</td>\n",
       "      <td>0</td>\n",
       "      <td>2</td>\n",
       "      <td>1</td>\n",
       "      <td>0</td>\n",
       "      <td>1</td>\n",
       "      <td>54</td>\n",
       "      <td>12000</td>\n",
       "      <td>1</td>\n",
       "    </tr>\n",
       "  </tbody>\n",
       "</table>\n",
       "</div>"
      ],
      "text/plain": [
       "      hhid     hhtract  hhnuma  hhsize  hhworkers  hhnwkers  hhhaskids  \\\n",
       "0  1125131  1073010500       0       2          0         1          1   \n",
       "1  1125132  1073010500       0       2          0         1          1   \n",
       "2  1125133  1073010500       0       2          1         0          1   \n",
       "3  1125134  1073010500       0       2          1         0          1   \n",
       "4  1125135  1073010500       0       2          1         0          1   \n",
       "\n",
       "   hhderage  hhincome  hhexpfac  \n",
       "0        46      7600         1  \n",
       "1        35     14000         1  \n",
       "2        35      2030         1  \n",
       "3        27     11000         1  \n",
       "4        54     12000         1  "
      ]
     },
     "execution_count": 4,
     "metadata": {},
     "output_type": "execute_result"
    }
   ],
   "source": [
    "# Check\n",
    "us_synpop_sorted.head()"
   ]
  },
  {
   "cell_type": "code",
   "execution_count": 5,
   "metadata": {},
   "outputs": [],
   "source": [
    "# Zones rolled up by how frequently they appear in the data\n",
    "zone_counts = us_synpop_sorted['hhnuma'].value_counts().sort_index()"
   ]
  },
  {
   "cell_type": "code",
   "execution_count": 6,
   "metadata": {},
   "outputs": [],
   "source": [
    "# Zones normalized to add up to 1\n",
    "zone_probabilities = zone_counts/len(us_synpop_sorted)"
   ]
  },
  {
   "cell_type": "code",
   "execution_count": 7,
   "metadata": {},
   "outputs": [
    {
     "data": {
      "text/plain": [
       "array([   7,   12,   41,   62,   64,   75,   78,   83,   85,  114,  166,\n",
       "        175,  178,  187,  237,  250,  280,  281,  321,  332,  352,  356,\n",
       "        358,  393,  397,  415,  424,  425,  436,  455,  499,  500,  501,\n",
       "        505,  543,  548,  550,  552,  553,  567,  568,  581,  584,  592,\n",
       "        600,  615,  630,  650,  655,  666,  711,  715,  743,  754,  755,\n",
       "        763,  786,  829,  852,  858,  879,  891,  931,  933,  951,  957,\n",
       "        965,  966,  967,  974, 1022, 1026, 1043, 1047, 1057, 1057, 1066,\n",
       "       1068, 1080, 1082, 1094, 1096, 1105, 1106, 1125, 1135, 1146, 1169,\n",
       "       1183, 1197, 1211, 1216, 1222, 1237, 1239, 1246, 1249, 1256, 1265,\n",
       "       1268, 1270, 1272, 1298, 1303, 1308, 1329, 1332, 1332, 1341, 1353,\n",
       "       1365, 1373, 1389, 1393, 1422, 1425, 1470, 1479, 1561, 1562, 1590,\n",
       "       1595, 1596, 1614, 1660, 1730, 1731, 1810, 1938, 1942, 1945, 1961,\n",
       "       2026, 2086, 2105, 2193, 2282, 2339, 2419, 2435, 2509, 2589, 2677,\n",
       "       2694, 2730, 2825, 2938, 2968, 3038, 3054, 3064, 3217, 3235, 3260,\n",
       "       3301, 3314, 3340, 3346, 3353, 3355, 3455, 3494, 3527, 3531, 3540,\n",
       "       3541, 3615, 3735, 3760, 3769, 3769, 3779, 3902, 3930, 3936, 3946,\n",
       "       3985, 3987, 4068, 4068, 4115, 4150, 4161, 4200, 4218, 4270, 4329,\n",
       "       4334, 4340, 4341, 4345, 4346, 4347, 4347, 4351, 4353, 4360, 4366,\n",
       "       4443, 4456])"
      ]
     },
     "execution_count": 7,
     "metadata": {},
     "output_type": "execute_result"
    }
   ],
   "source": [
    "# select a given number of sample zones, using zone counts as probability weights\n",
    "num_zones = 200\n",
    "sample_zones = np.random.choice(zone_counts.index, size=num_zones, p=zone_probabilities)\n",
    "np.sort(sample_zones)"
   ]
  },
  {
   "cell_type": "code",
   "execution_count": 8,
   "metadata": {},
   "outputs": [],
   "source": [
    "# Select all the households that are in the sample zones\n",
    "us_synpop_sample = us_synpop_sorted.loc[us_synpop_sorted['hhnuma'].isin(sample_zones)]"
   ]
  },
  {
   "cell_type": "code",
   "execution_count": 9,
   "metadata": {},
   "outputs": [
    {
     "data": {
      "text/plain": [
       "10227956"
      ]
     },
     "execution_count": 9,
     "metadata": {},
     "output_type": "execute_result"
    }
   ],
   "source": [
    "len(us_synpop_sample)"
   ]
  },
  {
   "cell_type": "code",
   "execution_count": 11,
   "metadata": {},
   "outputs": [
    {
     "data": {
      "text/html": [
       "<div>\n",
       "<style scoped>\n",
       "    .dataframe tbody tr th:only-of-type {\n",
       "        vertical-align: middle;\n",
       "    }\n",
       "\n",
       "    .dataframe tbody tr th {\n",
       "        vertical-align: top;\n",
       "    }\n",
       "\n",
       "    .dataframe thead th {\n",
       "        text-align: right;\n",
       "    }\n",
       "</style>\n",
       "<table border=\"1\" class=\"dataframe\">\n",
       "  <thead>\n",
       "    <tr style=\"text-align: right;\">\n",
       "      <th></th>\n",
       "      <th>hhid</th>\n",
       "      <th>hhtract</th>\n",
       "      <th>hhnuma</th>\n",
       "      <th>hhsize</th>\n",
       "      <th>hhworkers</th>\n",
       "      <th>hhnwkers</th>\n",
       "      <th>hhhaskids</th>\n",
       "      <th>hhderage</th>\n",
       "      <th>hhincome</th>\n",
       "      <th>hhexpfac</th>\n",
       "    </tr>\n",
       "  </thead>\n",
       "  <tbody>\n",
       "    <tr>\n",
       "      <th>302245</th>\n",
       "      <td>1843800</td>\n",
       "      <td>1097003800</td>\n",
       "      <td>7</td>\n",
       "      <td>2</td>\n",
       "      <td>0</td>\n",
       "      <td>1</td>\n",
       "      <td>1</td>\n",
       "      <td>32</td>\n",
       "      <td>0</td>\n",
       "      <td>1</td>\n",
       "    </tr>\n",
       "    <tr>\n",
       "      <th>302246</th>\n",
       "      <td>1843801</td>\n",
       "      <td>1097003800</td>\n",
       "      <td>7</td>\n",
       "      <td>2</td>\n",
       "      <td>0</td>\n",
       "      <td>1</td>\n",
       "      <td>1</td>\n",
       "      <td>55</td>\n",
       "      <td>12100</td>\n",
       "      <td>1</td>\n",
       "    </tr>\n",
       "    <tr>\n",
       "      <th>302247</th>\n",
       "      <td>1843802</td>\n",
       "      <td>1097003800</td>\n",
       "      <td>7</td>\n",
       "      <td>2</td>\n",
       "      <td>0</td>\n",
       "      <td>1</td>\n",
       "      <td>1</td>\n",
       "      <td>26</td>\n",
       "      <td>1400</td>\n",
       "      <td>1</td>\n",
       "    </tr>\n",
       "    <tr>\n",
       "      <th>302248</th>\n",
       "      <td>1843803</td>\n",
       "      <td>1097003800</td>\n",
       "      <td>7</td>\n",
       "      <td>2</td>\n",
       "      <td>0</td>\n",
       "      <td>1</td>\n",
       "      <td>1</td>\n",
       "      <td>40</td>\n",
       "      <td>0</td>\n",
       "      <td>1</td>\n",
       "    </tr>\n",
       "    <tr>\n",
       "      <th>302249</th>\n",
       "      <td>1843804</td>\n",
       "      <td>1097003800</td>\n",
       "      <td>7</td>\n",
       "      <td>2</td>\n",
       "      <td>0</td>\n",
       "      <td>1</td>\n",
       "      <td>1</td>\n",
       "      <td>47</td>\n",
       "      <td>3500</td>\n",
       "      <td>1</td>\n",
       "    </tr>\n",
       "  </tbody>\n",
       "</table>\n",
       "</div>"
      ],
      "text/plain": [
       "           hhid     hhtract  hhnuma  hhsize  hhworkers  hhnwkers  hhhaskids  \\\n",
       "302245  1843800  1097003800       7       2          0         1          1   \n",
       "302246  1843801  1097003800       7       2          0         1          1   \n",
       "302247  1843802  1097003800       7       2          0         1          1   \n",
       "302248  1843803  1097003800       7       2          0         1          1   \n",
       "302249  1843804  1097003800       7       2          0         1          1   \n",
       "\n",
       "        hhderage  hhincome  hhexpfac  \n",
       "302245        32         0         1  \n",
       "302246        55     12100         1  \n",
       "302247        26      1400         1  \n",
       "302248        40         0         1  \n",
       "302249        47      3500         1  "
      ]
     },
     "execution_count": 11,
     "metadata": {},
     "output_type": "execute_result"
    }
   ],
   "source": [
    "us_synpop_sample.head()"
   ]
  },
  {
   "cell_type": "code",
   "execution_count": 10,
   "metadata": {},
   "outputs": [],
   "source": [
    "# Save the sample to a csv\n",
    "us_synpop_sample.to_csv('us_synpop_hh3_200_zone_sample.dat', header=True, index=False, sep=\"\\t\")"
   ]
  },
  {
   "cell_type": "code",
   "execution_count": null,
   "metadata": {},
   "outputs": [],
   "source": [
    "# Some state code data in case we ever want to select zones from particular states.\n",
    "# The first two digits of the hhtract value are the state code.\n",
    "state_codes = pd.DataFrame([\n",
    "['Louisiana','LA',22],\n",
    "['Alabama','AL',1],\n",
    "['Arizona','AZ',4],\n",
    "['Arkansas','AR',5],\n",
    "['California','CA',6],\n",
    "['Colorado','CO',8],\n",
    "['Connecticut','CT',9],\n",
    "['Delaware','DE',10],\n",
    "['Florida','FL',12],\n",
    "['Georgia','GA',13],\n",
    "['Hawaii','HI',15],\n",
    "['Idaho','ID',16],\n",
    "['Illinois','IL',17],\n",
    "['Indiana','IN',18],\n",
    "['Iowa','IA',19],\n",
    "['Kansas','KS',20],\n",
    "['Kentucky','KY',21],\n",
    "['Maine','ME',23],\n",
    "['Maryland','MD',24],\n",
    "['Massachusetts','MA',25],\n",
    "['Michigan','MI',26],\n",
    "['Minnesota','MN',27],\n",
    "['Mississippi','MS',28],\n",
    "['Missouri','MO',29],\n",
    "['Montana','MT',30],\n",
    "['Nebraska','NE',31],\n",
    "['Nevada','NV',32],\n",
    "['New Hampshire','NH',33],\n",
    "['New Jersey','NJ',34],\n",
    "['New Mexico','NM',35],\n",
    "['New York','NY',36],\n",
    "['North Carolina','NC',37],\n",
    "['North Dakota','ND',38],\n",
    "['Ohio','OH',39],\n",
    "['Oklahoma','OK',40],\n",
    "['Oregon','OR',41],\n",
    "['Pennsylvania','PA',42],\n",
    "['Rhode Island','RI',44],\n",
    "['South Carolina','SC',45],\n",
    "['South Dakota','SD',46],\n",
    "['Tennessee','TN',47],\n",
    "['Texas','TX',48],\n",
    "['Utah','UT',49],\n",
    "['Vermont','VT',50],\n",
    "['Virginia','VA',51],\n",
    "['Washington','WA',53],\n",
    "['West Virginia','WV',54],\n",
    "['Wisconsin','WI',55],\n",
    "['Wyoming','WY',56],\n",
    "['Alaska','AK',2]],\n",
    "index=None, columns=['Name','Alpha code','Numeric code'])"
   ]
  },
  {
   "cell_type": "code",
   "execution_count": null,
   "metadata": {},
   "outputs": [],
   "source": [
    "state_codes.sort_values('Numeric code')"
   ]
  }
 ],
 "metadata": {
  "kernelspec": {
   "display_name": "Python 3",
   "language": "python",
   "name": "python3"
  },
  "language_info": {
   "codemirror_mode": {
    "name": "ipython",
    "version": 3
   },
   "file_extension": ".py",
   "mimetype": "text/x-python",
   "name": "python",
   "nbconvert_exporter": "python",
   "pygments_lexer": "ipython3",
   "version": "3.7.3"
  }
 },
 "nbformat": 4,
 "nbformat_minor": 2
}
